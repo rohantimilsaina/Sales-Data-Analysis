{
 "cells": [
  {
   "cell_type": "markdown",
   "id": "6c49a3c4",
   "metadata": {},
   "source": [
    "# Importing libraries\n",
    "Importing libraries is a crucial step in any data analysis project. It allows us to access pre-built functions and tools that can simplify and speed up the analysis process. \n",
    "\n",
    "- Numpy: Numpy is a library for numerical computing in Python. It provides tools for working with arrays and matrices, which are fundamental data structures in many scientific applications.\n",
    "\n",
    "- Pandas: Pandas is a library for data manipulation and analysis. It provides tools for reading and writing data, as well as data cleaning and transformation functions.\n",
    "\n",
    "- Matplotlib: Matplotlib is a library for creating static, animated, and interactive visualizations in Python. It provides a range of tools for creating line charts, scatter plots, bar charts, histograms, and more.\n",
    "\n",
    "- OS: OS is a library for interacting with the operating system. It provides tools for working with files and directories, executing system commands, and other operating system-related tasks.\n",
    "\n",
    "- Seaborn: Seaborn is a library for data visualization built on top of Matplotlib. It provides a higher-level interface for creating statistical graphics, such as heatmaps, pair plots, and violin plots. Seaborn also provides built-in functions for working with categorical data and for visualizing linear regression models."
   ]
  },
  {
   "cell_type": "code",
   "execution_count": 1,
   "id": "7e1b24fd",
   "metadata": {},
   "outputs": [],
   "source": [
    "import pandas as pd\n",
    "import numpy as np\n",
    "import matplotlib.pyplot as plt\n",
    "import os\n",
    "import seaborn as sns"
   ]
  },
  {
   "cell_type": "markdown",
   "id": "39f5c4ef",
   "metadata": {},
   "source": [
    "# 2. Data Preparation\n",
    "\n",
    "- Data preparation is the process of gathering, combining, structuring and organizing data so it can be used in business intelligence (BI), analytics and data visualization applications. It is the process of cleaning, transforming and restructuring data so that users can use it for analysis, business intelligence and visualization. The focus of data preparation is mostly on the consolidation of data. Different techniques exist to help you transform one or multiple raw datasets into one usable, high-quality dataset."
   ]
  },
  {
   "cell_type": "markdown",
   "id": "cdff89f9",
   "metadata": {},
   "source": [
    "# 2.1.Merging data from each month into one CSV and reading it in updated dataframe\n",
    "\n",
    "The dataset for 2019 sales is divided into separate CSV files for each month. In order to work with the data as a whole, these CSV files need to be merged or combined into a single CSV file. Once merged, the resulting file is assigned to a variable.\n"
   ]
  },
  {
   "cell_type": "code",
   "execution_count": 2,
   "id": "74e3c1fd",
   "metadata": {},
   "outputs": [
    {
     "data": {
      "text/plain": [
       "['Sales_April_2019.csv',\n",
       " 'Sales_August_2019.csv',\n",
       " 'Sales_December_2019.csv',\n",
       " 'Sales_February_2019.csv',\n",
       " 'Sales_January_2019.csv',\n",
       " 'Sales_July_2019.csv',\n",
       " 'Sales_June_2019.csv',\n",
       " 'Sales_March_2019.csv',\n",
       " 'Sales_May_2019.csv',\n",
       " 'Sales_November_2019.csv',\n",
       " 'Sales_October_2019.csv',\n",
       " 'Sales_September_2019.csv']"
      ]
     },
     "execution_count": 2,
     "metadata": {},
     "output_type": "execute_result"
    }
   ],
   "source": [
    "# Setting the directory path to where the CSV files are stored\n",
    "\n",
    "path=\"../CSV\"\n",
    "# Create an empty list to store the names of the CSV files\n",
    "csv_files = []\n",
    "# Looping through each file in the directory and checking if it has a .csv extension\n",
    "# If it does, add the file name to the csv_files list\n",
    "\n",
    "for name in os.listdir(path):\n",
    "    if name.endswith(\".csv\"):\n",
    "        csv_files.append(name)\n",
    "# Sorting the csv_files list alphabetically by file name\n",
    "csv_files.sort()\n",
    "csv_files"
   ]
  },
  {
   "cell_type": "code",
   "execution_count": 3,
   "id": "04c64c8b",
   "metadata": {},
   "outputs": [
    {
     "data": {
      "text/html": [
       "<div>\n",
       "<style scoped>\n",
       "    .dataframe tbody tr th:only-of-type {\n",
       "        vertical-align: middle;\n",
       "    }\n",
       "\n",
       "    .dataframe tbody tr th {\n",
       "        vertical-align: top;\n",
       "    }\n",
       "\n",
       "    .dataframe thead th {\n",
       "        text-align: right;\n",
       "    }\n",
       "</style>\n",
       "<table border=\"1\" class=\"dataframe\">\n",
       "  <thead>\n",
       "    <tr style=\"text-align: right;\">\n",
       "      <th></th>\n",
       "      <th>Order ID</th>\n",
       "      <th>Product</th>\n",
       "      <th>Quantity Ordered</th>\n",
       "      <th>Price Each</th>\n",
       "      <th>Order Date</th>\n",
       "      <th>Purchase Address</th>\n",
       "    </tr>\n",
       "  </thead>\n",
       "  <tbody>\n",
       "    <tr>\n",
       "      <th>0</th>\n",
       "      <td>176558.0</td>\n",
       "      <td>USB-C Charging Cable</td>\n",
       "      <td>2.0</td>\n",
       "      <td>11.95</td>\n",
       "      <td>4/19/2019 8:46</td>\n",
       "      <td>917 1st St, Dallas, TX 75001</td>\n",
       "    </tr>\n",
       "    <tr>\n",
       "      <th>1</th>\n",
       "      <td>NaN</td>\n",
       "      <td>NaN</td>\n",
       "      <td>NaN</td>\n",
       "      <td>NaN</td>\n",
       "      <td>NaN</td>\n",
       "      <td>NaN</td>\n",
       "    </tr>\n",
       "    <tr>\n",
       "      <th>2</th>\n",
       "      <td>176559.0</td>\n",
       "      <td>Bose SoundSport Headphones</td>\n",
       "      <td>1.0</td>\n",
       "      <td>99.99</td>\n",
       "      <td>4/7/2019 22:30</td>\n",
       "      <td>682 Chestnut St, Boston, MA 02215</td>\n",
       "    </tr>\n",
       "    <tr>\n",
       "      <th>3</th>\n",
       "      <td>176560.0</td>\n",
       "      <td>Google Phone</td>\n",
       "      <td>1.0</td>\n",
       "      <td>600.00</td>\n",
       "      <td>4/12/2019 14:38</td>\n",
       "      <td>669 Spruce St, Los Angeles, CA 90001</td>\n",
       "    </tr>\n",
       "    <tr>\n",
       "      <th>4</th>\n",
       "      <td>176560.0</td>\n",
       "      <td>Wired Headphones</td>\n",
       "      <td>1.0</td>\n",
       "      <td>11.99</td>\n",
       "      <td>4/12/2019 14:38</td>\n",
       "      <td>669 Spruce St, Los Angeles, CA 90001</td>\n",
       "    </tr>\n",
       "    <tr>\n",
       "      <th>...</th>\n",
       "      <td>...</td>\n",
       "      <td>...</td>\n",
       "      <td>...</td>\n",
       "      <td>...</td>\n",
       "      <td>...</td>\n",
       "      <td>...</td>\n",
       "    </tr>\n",
       "    <tr>\n",
       "      <th>186845</th>\n",
       "      <td>259353.0</td>\n",
       "      <td>AAA Batteries (4-pack)</td>\n",
       "      <td>3.0</td>\n",
       "      <td>2.99</td>\n",
       "      <td>9/17/2019 20:56</td>\n",
       "      <td>840 Highland St, Los Angeles, CA 90001</td>\n",
       "    </tr>\n",
       "    <tr>\n",
       "      <th>186846</th>\n",
       "      <td>259354.0</td>\n",
       "      <td>iPhone</td>\n",
       "      <td>1.0</td>\n",
       "      <td>700.00</td>\n",
       "      <td>9/1/2019 16:00</td>\n",
       "      <td>216 Dogwood St, San Francisco, CA 94016</td>\n",
       "    </tr>\n",
       "    <tr>\n",
       "      <th>186847</th>\n",
       "      <td>259355.0</td>\n",
       "      <td>iPhone</td>\n",
       "      <td>1.0</td>\n",
       "      <td>700.00</td>\n",
       "      <td>9/23/2019 7:39</td>\n",
       "      <td>220 12th St, San Francisco, CA 94016</td>\n",
       "    </tr>\n",
       "    <tr>\n",
       "      <th>186848</th>\n",
       "      <td>259356.0</td>\n",
       "      <td>34in Ultrawide Monitor</td>\n",
       "      <td>1.0</td>\n",
       "      <td>379.99</td>\n",
       "      <td>9/19/2019 17:30</td>\n",
       "      <td>511 Forest St, San Francisco, CA 94016</td>\n",
       "    </tr>\n",
       "    <tr>\n",
       "      <th>186849</th>\n",
       "      <td>259357.0</td>\n",
       "      <td>USB-C Charging Cable</td>\n",
       "      <td>1.0</td>\n",
       "      <td>11.95</td>\n",
       "      <td>9/30/2019 0:18</td>\n",
       "      <td>250 Meadow St, San Francisco, CA 94016</td>\n",
       "    </tr>\n",
       "  </tbody>\n",
       "</table>\n",
       "<p>186850 rows × 6 columns</p>\n",
       "</div>"
      ],
      "text/plain": [
       "        Order ID                     Product  Quantity Ordered  Price Each  \\\n",
       "0       176558.0        USB-C Charging Cable               2.0       11.95   \n",
       "1            NaN                         NaN               NaN         NaN   \n",
       "2       176559.0  Bose SoundSport Headphones               1.0       99.99   \n",
       "3       176560.0                Google Phone               1.0      600.00   \n",
       "4       176560.0            Wired Headphones               1.0       11.99   \n",
       "...          ...                         ...               ...         ...   \n",
       "186845  259353.0      AAA Batteries (4-pack)               3.0        2.99   \n",
       "186846  259354.0                      iPhone               1.0      700.00   \n",
       "186847  259355.0                      iPhone               1.0      700.00   \n",
       "186848  259356.0      34in Ultrawide Monitor               1.0      379.99   \n",
       "186849  259357.0        USB-C Charging Cable               1.0       11.95   \n",
       "\n",
       "             Order Date                         Purchase Address  \n",
       "0        4/19/2019 8:46             917 1st St, Dallas, TX 75001  \n",
       "1                   NaN                                      NaN  \n",
       "2        4/7/2019 22:30        682 Chestnut St, Boston, MA 02215  \n",
       "3       4/12/2019 14:38     669 Spruce St, Los Angeles, CA 90001  \n",
       "4       4/12/2019 14:38     669 Spruce St, Los Angeles, CA 90001  \n",
       "...                 ...                                      ...  \n",
       "186845  9/17/2019 20:56   840 Highland St, Los Angeles, CA 90001  \n",
       "186846   9/1/2019 16:00  216 Dogwood St, San Francisco, CA 94016  \n",
       "186847   9/23/2019 7:39     220 12th St, San Francisco, CA 94016  \n",
       "186848  9/19/2019 17:30   511 Forest St, San Francisco, CA 94016  \n",
       "186849   9/30/2019 0:18   250 Meadow St, San Francisco, CA 94016  \n",
       "\n",
       "[186850 rows x 6 columns]"
      ]
     },
     "execution_count": 3,
     "metadata": {},
     "output_type": "execute_result"
    }
   ],
   "source": [
    "# Concatenating all the CSV files into one large DataFrame called merged_dataframe\n",
    "merged_dataframe=pd.concat(map(pd.read_csv,csv_files),ignore_index=True)\n",
    "# Converting the merged_dataframe to a new DataFrame called updated_dataframe\n",
    "updated_dataframe=pd.DataFrame(merged_dataframe)\n",
    "# Creating a new DataFrame called new_dataframe that is a copy of updated_dataframe\n",
    "new_dataframe=updated_dataframe\n",
    "# Printing the new_dataframe to verify that the data was correctly merged and updated\n",
    "new_dataframe"
   ]
  },
  {
   "cell_type": "markdown",
   "id": "ee8bb1b4",
   "metadata": {},
   "source": [
    "# 2.2.Removing Missing Values or Null From Dataframe"
   ]
  },
  {
   "cell_type": "code",
   "execution_count": 4,
   "id": "9ec03efc",
   "metadata": {},
   "outputs": [
    {
     "data": {
      "text/html": [
       "<div>\n",
       "<style scoped>\n",
       "    .dataframe tbody tr th:only-of-type {\n",
       "        vertical-align: middle;\n",
       "    }\n",
       "\n",
       "    .dataframe tbody tr th {\n",
       "        vertical-align: top;\n",
       "    }\n",
       "\n",
       "    .dataframe thead th {\n",
       "        text-align: right;\n",
       "    }\n",
       "</style>\n",
       "<table border=\"1\" class=\"dataframe\">\n",
       "  <thead>\n",
       "    <tr style=\"text-align: right;\">\n",
       "      <th></th>\n",
       "      <th>Order ID</th>\n",
       "      <th>Product</th>\n",
       "      <th>Quantity Ordered</th>\n",
       "      <th>Price Each</th>\n",
       "      <th>Order Date</th>\n",
       "      <th>Purchase Address</th>\n",
       "    </tr>\n",
       "  </thead>\n",
       "  <tbody>\n",
       "    <tr>\n",
       "      <th>0</th>\n",
       "      <td>False</td>\n",
       "      <td>False</td>\n",
       "      <td>False</td>\n",
       "      <td>False</td>\n",
       "      <td>False</td>\n",
       "      <td>False</td>\n",
       "    </tr>\n",
       "    <tr>\n",
       "      <th>1</th>\n",
       "      <td>True</td>\n",
       "      <td>True</td>\n",
       "      <td>True</td>\n",
       "      <td>True</td>\n",
       "      <td>True</td>\n",
       "      <td>True</td>\n",
       "    </tr>\n",
       "    <tr>\n",
       "      <th>2</th>\n",
       "      <td>False</td>\n",
       "      <td>False</td>\n",
       "      <td>False</td>\n",
       "      <td>False</td>\n",
       "      <td>False</td>\n",
       "      <td>False</td>\n",
       "    </tr>\n",
       "    <tr>\n",
       "      <th>3</th>\n",
       "      <td>False</td>\n",
       "      <td>False</td>\n",
       "      <td>False</td>\n",
       "      <td>False</td>\n",
       "      <td>False</td>\n",
       "      <td>False</td>\n",
       "    </tr>\n",
       "    <tr>\n",
       "      <th>4</th>\n",
       "      <td>False</td>\n",
       "      <td>False</td>\n",
       "      <td>False</td>\n",
       "      <td>False</td>\n",
       "      <td>False</td>\n",
       "      <td>False</td>\n",
       "    </tr>\n",
       "    <tr>\n",
       "      <th>5</th>\n",
       "      <td>False</td>\n",
       "      <td>False</td>\n",
       "      <td>False</td>\n",
       "      <td>False</td>\n",
       "      <td>False</td>\n",
       "      <td>False</td>\n",
       "    </tr>\n",
       "    <tr>\n",
       "      <th>6</th>\n",
       "      <td>False</td>\n",
       "      <td>False</td>\n",
       "      <td>False</td>\n",
       "      <td>False</td>\n",
       "      <td>False</td>\n",
       "      <td>False</td>\n",
       "    </tr>\n",
       "    <tr>\n",
       "      <th>7</th>\n",
       "      <td>False</td>\n",
       "      <td>False</td>\n",
       "      <td>False</td>\n",
       "      <td>False</td>\n",
       "      <td>False</td>\n",
       "      <td>False</td>\n",
       "    </tr>\n",
       "    <tr>\n",
       "      <th>8</th>\n",
       "      <td>False</td>\n",
       "      <td>False</td>\n",
       "      <td>False</td>\n",
       "      <td>False</td>\n",
       "      <td>False</td>\n",
       "      <td>False</td>\n",
       "    </tr>\n",
       "    <tr>\n",
       "      <th>9</th>\n",
       "      <td>False</td>\n",
       "      <td>False</td>\n",
       "      <td>False</td>\n",
       "      <td>False</td>\n",
       "      <td>False</td>\n",
       "      <td>False</td>\n",
       "    </tr>\n",
       "    <tr>\n",
       "      <th>10</th>\n",
       "      <td>False</td>\n",
       "      <td>False</td>\n",
       "      <td>False</td>\n",
       "      <td>False</td>\n",
       "      <td>False</td>\n",
       "      <td>False</td>\n",
       "    </tr>\n",
       "    <tr>\n",
       "      <th>11</th>\n",
       "      <td>False</td>\n",
       "      <td>False</td>\n",
       "      <td>False</td>\n",
       "      <td>False</td>\n",
       "      <td>False</td>\n",
       "      <td>False</td>\n",
       "    </tr>\n",
       "  </tbody>\n",
       "</table>\n",
       "</div>"
      ],
      "text/plain": [
       "    Order ID  Product  Quantity Ordered  Price Each  Order Date  \\\n",
       "0      False    False             False       False       False   \n",
       "1       True     True              True        True        True   \n",
       "2      False    False             False       False       False   \n",
       "3      False    False             False       False       False   \n",
       "4      False    False             False       False       False   \n",
       "5      False    False             False       False       False   \n",
       "6      False    False             False       False       False   \n",
       "7      False    False             False       False       False   \n",
       "8      False    False             False       False       False   \n",
       "9      False    False             False       False       False   \n",
       "10     False    False             False       False       False   \n",
       "11     False    False             False       False       False   \n",
       "\n",
       "    Purchase Address  \n",
       "0              False  \n",
       "1               True  \n",
       "2              False  \n",
       "3              False  \n",
       "4              False  \n",
       "5              False  \n",
       "6              False  \n",
       "7              False  \n",
       "8              False  \n",
       "9              False  \n",
       "10             False  \n",
       "11             False  "
      ]
     },
     "execution_count": 4,
     "metadata": {},
     "output_type": "execute_result"
    }
   ],
   "source": [
    "new_dataframe.isna().head(12)\n",
    "# Checking for missing values in new_dataframe and returning a boolean dataframe where True represents a missing value"
   ]
  },
  {
   "cell_type": "code",
   "execution_count": 5,
   "id": "19ae0c48",
   "metadata": {},
   "outputs": [
    {
     "data": {
      "text/plain": [
       "Order ID            900\n",
       "Product             900\n",
       "Quantity Ordered    900\n",
       "Price Each          900\n",
       "Order Date          900\n",
       "Purchase Address    900\n",
       "dtype: int64"
      ]
     },
     "execution_count": 5,
     "metadata": {},
     "output_type": "execute_result"
    }
   ],
   "source": [
    "# checking the missing values in new_dataframe and summing all missing values in each column \n",
    "new_dataframe.isna().sum()"
   ]
  },
  {
   "cell_type": "markdown",
   "id": "eb2479e5",
   "metadata": {},
   "source": [
    "# 2.2.1 Using Heatmap for locating null values\n",
    "\n",
    "- A heatmap is a graphical representation of data where the individual values contained in a matrix are represented as colors. It allows easy visualization of complex data by encoding values as colors in a two-dimensional space, making it useful for identifying patterns and relationships in large datasets. Heatmaps are commonly used in data analysis and visualization, especially in fields such as biology, economics, and social sciences. In Python, heatmaps can be created using libraries such as Seaborn or Matplotlib."
   ]
  },
  {
   "cell_type": "code",
   "execution_count": 6,
   "id": "8b752dc3",
   "metadata": {},
   "outputs": [
    {
     "data": {
      "image/png": "[encoded data removed]",
      "text/plain": [
       "<Figure size 1400x500 with 2 Axes>"
      ]
     },
     "metadata": {},
     "output_type": "display_data"
    }
   ],
   "source": [
    "# Create a heatmap to visualize missing values in the updated_dataframe\n",
    "plt.figure(figsize=(14,5))\n",
    "sns.heatmap(new_dataframe.isna(), cmap=\"viridis\")\n",
    "plt.title(\"Missing Values Heatmap\",)\n",
    "plt.show()"
   ]
  },
  {
   "cell_type": "code",
   "execution_count": 7,
   "id": "a243fbd8",
   "metadata": {},
   "outputs": [
    {
     "data": {
      "text/plain": [
       "Order ID            float64\n",
       "Product              object\n",
       "Quantity Ordered    float64\n",
       "Price Each          float64\n",
       "Order Date           object\n",
       "Purchase Address     object\n",
       "dtype: object"
      ]
     },
     "execution_count": 7,
     "metadata": {},
     "output_type": "execute_result"
    }
   ],
   "source": [
    "# Removing rows containing missing values from new_dataframe\n",
    "new_dataframe.dropna(inplace=True)\n",
    "new_dataframe.dtypes"
   ]
  },
  {
   "cell_type": "code",
   "execution_count": 8,
   "id": "bc109f10",
   "metadata": {},
   "outputs": [
    {
     "data": {
      "text/plain": [
       "Order ID            0\n",
       "Product             0\n",
       "Quantity Ordered    0\n",
       "Price Each          0\n",
       "Order Date          0\n",
       "Purchase Address    0\n",
       "dtype: int64"
      ]
     },
     "execution_count": 8,
     "metadata": {},
     "output_type": "execute_result"
    }
   ],
   "source": [
    "new_dataframe.isna().sum()\n",
    "# This code checks for null values in the new_dataframe and calculates the sum of missing values in each column.\n",
    "# isna() method returns a Boolean DataFrame with True values for cells that contain null values"
   ]
  },
  {
   "cell_type": "code",
   "execution_count": 9,
   "id": "83e7b409",
   "metadata": {},
   "outputs": [
    {
     "data": {
      "image/png": "[encoded data removed]",
      "text/plain": [
       "<Figure size 1800x600 with 2 Axes>"
      ]
     },
     "metadata": {},
     "output_type": "display_data"
    },
    {
     "name": "stdout",
     "output_type": "stream",
     "text": [
      "The yellow color denotes null values, while light blue denotes non-null values in the dataframe.\n"
     ]
    }
   ],
   "source": [
    "# creating heatmap of null values in updated_dataframe\n",
    "plt.figure(figsize=(18,6))\n",
    "sns.heatmap(new_dataframe.isna(), cmap=\"viridis\")\n",
    "plt.title(\"Heatmap of Null Values in Updated Dataframe\")\n",
    "plt.xlabel(\"Columns\")\n",
    "plt.ylabel(\"Rows\")\n",
    "plt.show()\n",
    "\n",
    "# describing color map used in the heatmap\n",
    "print(\"The yellow color denotes null values, while light blue denotes non-null values in the dataframe.\")\n"
   ]
  },
  {
   "cell_type": "code",
   "execution_count": 10,
   "id": "dc0c1cb5",
   "metadata": {},
   "outputs": [
    {
     "data": {
      "text/html": [
       "<div>\n",
       "<style scoped>\n",
       "    .dataframe tbody tr th:only-of-type {\n",
       "        vertical-align: middle;\n",
       "    }\n",
       "\n",
       "    .dataframe tbody tr th {\n",
       "        vertical-align: top;\n",
       "    }\n",
       "\n",
       "    .dataframe thead th {\n",
       "        text-align: right;\n",
       "    }\n",
       "</style>\n",
       "<table border=\"1\" class=\"dataframe\">\n",
       "  <thead>\n",
       "    <tr style=\"text-align: right;\">\n",
       "      <th></th>\n",
       "      <th>Order ID</th>\n",
       "      <th>Product</th>\n",
       "      <th>Quantity Ordered</th>\n",
       "      <th>Price Each</th>\n",
       "      <th>Order Date</th>\n",
       "      <th>Purchase Address</th>\n",
       "    </tr>\n",
       "  </thead>\n",
       "  <tbody>\n",
       "    <tr>\n",
       "      <th>0</th>\n",
       "      <td>176558.0</td>\n",
       "      <td>USB-C Charging Cable</td>\n",
       "      <td>2.0</td>\n",
       "      <td>11.95</td>\n",
       "      <td>4/19/2019 8:46</td>\n",
       "      <td>917 1st St, Dallas, TX 75001</td>\n",
       "    </tr>\n",
       "    <tr>\n",
       "      <th>2</th>\n",
       "      <td>176559.0</td>\n",
       "      <td>Bose SoundSport Headphones</td>\n",
       "      <td>1.0</td>\n",
       "      <td>99.99</td>\n",
       "      <td>4/7/2019 22:30</td>\n",
       "      <td>682 Chestnut St, Boston, MA 02215</td>\n",
       "    </tr>\n",
       "    <tr>\n",
       "      <th>3</th>\n",
       "      <td>176560.0</td>\n",
       "      <td>Google Phone</td>\n",
       "      <td>1.0</td>\n",
       "      <td>600.00</td>\n",
       "      <td>4/12/2019 14:38</td>\n",
       "      <td>669 Spruce St, Los Angeles, CA 90001</td>\n",
       "    </tr>\n",
       "    <tr>\n",
       "      <th>4</th>\n",
       "      <td>176560.0</td>\n",
       "      <td>Wired Headphones</td>\n",
       "      <td>1.0</td>\n",
       "      <td>11.99</td>\n",
       "      <td>4/12/2019 14:38</td>\n",
       "      <td>669 Spruce St, Los Angeles, CA 90001</td>\n",
       "    </tr>\n",
       "    <tr>\n",
       "      <th>5</th>\n",
       "      <td>176561.0</td>\n",
       "      <td>Wired Headphones</td>\n",
       "      <td>1.0</td>\n",
       "      <td>11.99</td>\n",
       "      <td>4/30/2019 9:27</td>\n",
       "      <td>333 8th St, Los Angeles, CA 90001</td>\n",
       "    </tr>\n",
       "    <tr>\n",
       "      <th>...</th>\n",
       "      <td>...</td>\n",
       "      <td>...</td>\n",
       "      <td>...</td>\n",
       "      <td>...</td>\n",
       "      <td>...</td>\n",
       "      <td>...</td>\n",
       "    </tr>\n",
       "    <tr>\n",
       "      <th>186845</th>\n",
       "      <td>259353.0</td>\n",
       "      <td>AAA Batteries (4-pack)</td>\n",
       "      <td>3.0</td>\n",
       "      <td>2.99</td>\n",
       "      <td>9/17/2019 20:56</td>\n",
       "      <td>840 Highland St, Los Angeles, CA 90001</td>\n",
       "    </tr>\n",
       "    <tr>\n",
       "      <th>186846</th>\n",
       "      <td>259354.0</td>\n",
       "      <td>iPhone</td>\n",
       "      <td>1.0</td>\n",
       "      <td>700.00</td>\n",
       "      <td>9/1/2019 16:00</td>\n",
       "      <td>216 Dogwood St, San Francisco, CA 94016</td>\n",
       "    </tr>\n",
       "    <tr>\n",
       "      <th>186847</th>\n",
       "      <td>259355.0</td>\n",
       "      <td>iPhone</td>\n",
       "      <td>1.0</td>\n",
       "      <td>700.00</td>\n",
       "      <td>9/23/2019 7:39</td>\n",
       "      <td>220 12th St, San Francisco, CA 94016</td>\n",
       "    </tr>\n",
       "    <tr>\n",
       "      <th>186848</th>\n",
       "      <td>259356.0</td>\n",
       "      <td>34in Ultrawide Monitor</td>\n",
       "      <td>1.0</td>\n",
       "      <td>379.99</td>\n",
       "      <td>9/19/2019 17:30</td>\n",
       "      <td>511 Forest St, San Francisco, CA 94016</td>\n",
       "    </tr>\n",
       "    <tr>\n",
       "      <th>186849</th>\n",
       "      <td>259357.0</td>\n",
       "      <td>USB-C Charging Cable</td>\n",
       "      <td>1.0</td>\n",
       "      <td>11.95</td>\n",
       "      <td>9/30/2019 0:18</td>\n",
       "      <td>250 Meadow St, San Francisco, CA 94016</td>\n",
       "    </tr>\n",
       "  </tbody>\n",
       "</table>\n",
       "<p>185950 rows × 6 columns</p>\n",
       "</div>"
      ],
      "text/plain": [
       "        Order ID                     Product  Quantity Ordered  Price Each  \\\n",
       "0       176558.0        USB-C Charging Cable               2.0       11.95   \n",
       "2       176559.0  Bose SoundSport Headphones               1.0       99.99   \n",
       "3       176560.0                Google Phone               1.0      600.00   \n",
       "4       176560.0            Wired Headphones               1.0       11.99   \n",
       "5       176561.0            Wired Headphones               1.0       11.99   \n",
       "...          ...                         ...               ...         ...   \n",
       "186845  259353.0      AAA Batteries (4-pack)               3.0        2.99   \n",
       "186846  259354.0                      iPhone               1.0      700.00   \n",
       "186847  259355.0                      iPhone               1.0      700.00   \n",
       "186848  259356.0      34in Ultrawide Monitor               1.0      379.99   \n",
       "186849  259357.0        USB-C Charging Cable               1.0       11.95   \n",
       "\n",
       "             Order Date                         Purchase Address  \n",
       "0        4/19/2019 8:46             917 1st St, Dallas, TX 75001  \n",
       "2        4/7/2019 22:30        682 Chestnut St, Boston, MA 02215  \n",
       "3       4/12/2019 14:38     669 Spruce St, Los Angeles, CA 90001  \n",
       "4       4/12/2019 14:38     669 Spruce St, Los Angeles, CA 90001  \n",
       "5        4/30/2019 9:27        333 8th St, Los Angeles, CA 90001  \n",
       "...                 ...                                      ...  \n",
       "186845  9/17/2019 20:56   840 Highland St, Los Angeles, CA 90001  \n",
       "186846   9/1/2019 16:00  216 Dogwood St, San Francisco, CA 94016  \n",
       "186847   9/23/2019 7:39     220 12th St, San Francisco, CA 94016  \n",
       "186848  9/19/2019 17:30   511 Forest St, San Francisco, CA 94016  \n",
       "186849   9/30/2019 0:18   250 Meadow St, San Francisco, CA 94016  \n",
       "\n",
       "[185950 rows x 6 columns]"
      ]
     },
     "execution_count": 10,
     "metadata": {},
     "output_type": "execute_result"
    }
   ],
   "source": [
    "new_dataframe\n",
    "#printing new_dataframe after removing rows which contains missing values"
   ]
  },
  {
   "cell_type": "code",
   "execution_count": 11,
   "id": "1b6c9d53",
   "metadata": {},
   "outputs": [
    {
     "data": {
      "text/plain": [
       "Order ID            0\n",
       "Product             0\n",
       "Quantity Ordered    0\n",
       "Price Each          0\n",
       "Order Date          0\n",
       "Purchase Address    0\n",
       "dtype: int64"
      ]
     },
     "execution_count": 11,
     "metadata": {},
     "output_type": "execute_result"
    }
   ],
   "source": [
    "new_dataframe.isnull().sum()\n",
    "# checking again new_dataframe after removing rows which contains missing values "
   ]
  },
  {
   "cell_type": "markdown",
   "id": "7e14de31",
   "metadata": {},
   "source": [
    "# 2.3.Converting Datatypes of Dataframes Columns: Quantity Ordered and Price Each"
   ]
  },
  {
   "cell_type": "code",
   "execution_count": 12,
   "id": "a49eebc8",
   "metadata": {},
   "outputs": [
    {
     "data": {
      "text/plain": [
       "Order ID            float64\n",
       "Product              object\n",
       "Quantity Ordered    float64\n",
       "Price Each          float64\n",
       "Order Date           object\n",
       "Purchase Address     object\n",
       "dtype: object"
      ]
     },
     "execution_count": 12,
     "metadata": {},
     "output_type": "execute_result"
    }
   ],
   "source": [
    "new_dataframe.dtypes\n",
    "# printing new_dataframe datatypes"
   ]
  },
  {
   "cell_type": "code",
   "execution_count": 13,
   "id": "f5cffb48",
   "metadata": {},
   "outputs": [
    {
     "data": {
      "text/plain": [
       "dtype('float64')"
      ]
     },
     "execution_count": 13,
     "metadata": {},
     "output_type": "execute_result"
    }
   ],
   "source": [
    "#extracting the data type of quantity ordered\n",
    "Qty= new_dataframe['Quantity Ordered'].dtype\n",
    "Qty"
   ]
  },
  {
   "cell_type": "code",
   "execution_count": 14,
   "id": "4b144667",
   "metadata": {},
   "outputs": [
    {
     "data": {
      "text/plain": [
       "Order ID            float64\n",
       "Product              object\n",
       "Quantity Ordered    float64\n",
       "Price Each          float64\n",
       "Order Date           object\n",
       "Purchase Address     object\n",
       "dtype: object"
      ]
     },
     "execution_count": 14,
     "metadata": {},
     "output_type": "execute_result"
    }
   ],
   "source": [
    "new_dataframe['Quantity Ordered'] =pd.to_numeric(new_dataframe['Quantity Ordered'])\n",
    "new_dataframe.dtypes\n",
    "#converting Quantity ordered data type into numeric"
   ]
  },
  {
   "cell_type": "code",
   "execution_count": 15,
   "id": "ac5964d6",
   "metadata": {},
   "outputs": [
    {
     "data": {
      "text/plain": [
       "dtype('float64')"
      ]
     },
     "execution_count": 15,
     "metadata": {},
     "output_type": "execute_result"
    }
   ],
   "source": [
    "Price=new_dataframe['Price Each'].dtype\n",
    "Price\n",
    "# extracting the data type of Price Each "
   ]
  },
  {
   "cell_type": "code",
   "execution_count": 16,
   "id": "40ac1868",
   "metadata": {},
   "outputs": [
    {
     "data": {
      "text/plain": [
       "Order ID            float64\n",
       "Product              object\n",
       "Quantity Ordered    float64\n",
       "Price Each          float64\n",
       "Order Date           object\n",
       "Purchase Address     object\n",
       "dtype: object"
      ]
     },
     "execution_count": 16,
     "metadata": {},
     "output_type": "execute_result"
    }
   ],
   "source": [
    "new_dataframe['Price Each']=pd.to_numeric(new_dataframe['Price Each'])\n",
    "new_dataframe.dtypes\n",
    "#changing Price Each data type into numeric"
   ]
  },
  {
   "cell_type": "markdown",
   "id": "2aa10c68",
   "metadata": {},
   "source": [
    "# 2.4.Creating a new column named Month from Ordered Date \n"
   ]
  },
  {
   "cell_type": "code",
   "execution_count": 17,
   "id": "13a15806",
   "metadata": {},
   "outputs": [
    {
     "data": {
      "text/plain": [
       "Order ID            float64\n",
       "Product              object\n",
       "Quantity Ordered    float64\n",
       "Price Each          float64\n",
       "Order Date           object\n",
       "Purchase Address     object\n",
       "Month                object\n",
       "dtype: object"
      ]
     },
     "execution_count": 17,
     "metadata": {},
     "output_type": "execute_result"
    }
   ],
   "source": [
    "new_dataframe['Month']=new_dataframe['Order Date']\n",
    "new_dataframe.dtypes\n",
    "#creates the column named Month while extracting details from ordered date and displays the data type"
   ]
  },
  {
   "cell_type": "code",
   "execution_count": 18,
   "id": "43793190",
   "metadata": {},
   "outputs": [],
   "source": [
    "# Extract the month from the 'Month' column, remove any leading/trailing whitespace, and split by the '/' separator.\n",
    "# The first item in the resulting list will be the month value. \n",
    "new_dataframe['Month'] = new_dataframe['Month'].str.strip().str.split('/').str[0]\n",
    "\n",
    "# Convert the 'Month' column to integer datatype.\n",
    "# This will enable numeric operations on the column, such as grouping or sorting by month.\n",
    "new_dataframe['Month'] = new_dataframe['Month'].astype(int)\n"
   ]
  },
  {
   "cell_type": "code",
   "execution_count": 19,
   "id": "63d3f18b",
   "metadata": {},
   "outputs": [
    {
     "data": {
      "text/plain": [
       "Order ID            float64\n",
       "Product              object\n",
       "Quantity Ordered    float64\n",
       "Price Each          float64\n",
       "Order Date           object\n",
       "Purchase Address     object\n",
       "Month                 int32\n",
       "dtype: object"
      ]
     },
     "execution_count": 19,
     "metadata": {},
     "output_type": "execute_result"
    }
   ],
   "source": [
    "new_dataframe.dtypes\n",
    "#printing new_dataframes data types"
   ]
  },
  {
   "cell_type": "code",
   "execution_count": 20,
   "id": "892102ff",
   "metadata": {},
   "outputs": [
    {
     "data": {
      "text/html": [
       "<div>\n",
       "<style scoped>\n",
       "    .dataframe tbody tr th:only-of-type {\n",
       "        vertical-align: middle;\n",
       "    }\n",
       "\n",
       "    .dataframe tbody tr th {\n",
       "        vertical-align: top;\n",
       "    }\n",
       "\n",
       "    .dataframe thead th {\n",
       "        text-align: right;\n",
       "    }\n",
       "</style>\n",
       "<table border=\"1\" class=\"dataframe\">\n",
       "  <thead>\n",
       "    <tr style=\"text-align: right;\">\n",
       "      <th></th>\n",
       "      <th>Order ID</th>\n",
       "      <th>Product</th>\n",
       "      <th>Quantity Ordered</th>\n",
       "      <th>Price Each</th>\n",
       "      <th>Order Date</th>\n",
       "      <th>Purchase Address</th>\n",
       "      <th>Month</th>\n",
       "    </tr>\n",
       "  </thead>\n",
       "  <tbody>\n",
       "    <tr>\n",
       "      <th>0</th>\n",
       "      <td>176558.0</td>\n",
       "      <td>USB-C Charging Cable</td>\n",
       "      <td>2.0</td>\n",
       "      <td>11.95</td>\n",
       "      <td>4/19/2019 8:46</td>\n",
       "      <td>917 1st St, Dallas, TX 75001</td>\n",
       "      <td>4</td>\n",
       "    </tr>\n",
       "    <tr>\n",
       "      <th>2</th>\n",
       "      <td>176559.0</td>\n",
       "      <td>Bose SoundSport Headphones</td>\n",
       "      <td>1.0</td>\n",
       "      <td>99.99</td>\n",
       "      <td>4/7/2019 22:30</td>\n",
       "      <td>682 Chestnut St, Boston, MA 02215</td>\n",
       "      <td>4</td>\n",
       "    </tr>\n",
       "    <tr>\n",
       "      <th>3</th>\n",
       "      <td>176560.0</td>\n",
       "      <td>Google Phone</td>\n",
       "      <td>1.0</td>\n",
       "      <td>600.00</td>\n",
       "      <td>4/12/2019 14:38</td>\n",
       "      <td>669 Spruce St, Los Angeles, CA 90001</td>\n",
       "      <td>4</td>\n",
       "    </tr>\n",
       "    <tr>\n",
       "      <th>4</th>\n",
       "      <td>176560.0</td>\n",
       "      <td>Wired Headphones</td>\n",
       "      <td>1.0</td>\n",
       "      <td>11.99</td>\n",
       "      <td>4/12/2019 14:38</td>\n",
       "      <td>669 Spruce St, Los Angeles, CA 90001</td>\n",
       "      <td>4</td>\n",
       "    </tr>\n",
       "    <tr>\n",
       "      <th>5</th>\n",
       "      <td>176561.0</td>\n",
       "      <td>Wired Headphones</td>\n",
       "      <td>1.0</td>\n",
       "      <td>11.99</td>\n",
       "      <td>4/30/2019 9:27</td>\n",
       "      <td>333 8th St, Los Angeles, CA 90001</td>\n",
       "      <td>4</td>\n",
       "    </tr>\n",
       "    <tr>\n",
       "      <th>...</th>\n",
       "      <td>...</td>\n",
       "      <td>...</td>\n",
       "      <td>...</td>\n",
       "      <td>...</td>\n",
       "      <td>...</td>\n",
       "      <td>...</td>\n",
       "      <td>...</td>\n",
       "    </tr>\n",
       "    <tr>\n",
       "      <th>186845</th>\n",
       "      <td>259353.0</td>\n",
       "      <td>AAA Batteries (4-pack)</td>\n",
       "      <td>3.0</td>\n",
       "      <td>2.99</td>\n",
       "      <td>9/17/2019 20:56</td>\n",
       "      <td>840 Highland St, Los Angeles, CA 90001</td>\n",
       "      <td>9</td>\n",
       "    </tr>\n",
       "    <tr>\n",
       "      <th>186846</th>\n",
       "      <td>259354.0</td>\n",
       "      <td>iPhone</td>\n",
       "      <td>1.0</td>\n",
       "      <td>700.00</td>\n",
       "      <td>9/1/2019 16:00</td>\n",
       "      <td>216 Dogwood St, San Francisco, CA 94016</td>\n",
       "      <td>9</td>\n",
       "    </tr>\n",
       "    <tr>\n",
       "      <th>186847</th>\n",
       "      <td>259355.0</td>\n",
       "      <td>iPhone</td>\n",
       "      <td>1.0</td>\n",
       "      <td>700.00</td>\n",
       "      <td>9/23/2019 7:39</td>\n",
       "      <td>220 12th St, San Francisco, CA 94016</td>\n",
       "      <td>9</td>\n",
       "    </tr>\n",
       "    <tr>\n",
       "      <th>186848</th>\n",
       "      <td>259356.0</td>\n",
       "      <td>34in Ultrawide Monitor</td>\n",
       "      <td>1.0</td>\n",
       "      <td>379.99</td>\n",
       "      <td>9/19/2019 17:30</td>\n",
       "      <td>511 Forest St, San Francisco, CA 94016</td>\n",
       "      <td>9</td>\n",
       "    </tr>\n",
       "    <tr>\n",
       "      <th>186849</th>\n",
       "      <td>259357.0</td>\n",
       "      <td>USB-C Charging Cable</td>\n",
       "      <td>1.0</td>\n",
       "      <td>11.95</td>\n",
       "      <td>9/30/2019 0:18</td>\n",
       "      <td>250 Meadow St, San Francisco, CA 94016</td>\n",
       "      <td>9</td>\n",
       "    </tr>\n",
       "  </tbody>\n",
       "</table>\n",
       "<p>185950 rows × 7 columns</p>\n",
       "</div>"
      ],
      "text/plain": [
       "        Order ID                     Product  Quantity Ordered  Price Each  \\\n",
       "0       176558.0        USB-C Charging Cable               2.0       11.95   \n",
       "2       176559.0  Bose SoundSport Headphones               1.0       99.99   \n",
       "3       176560.0                Google Phone               1.0      600.00   \n",
       "4       176560.0            Wired Headphones               1.0       11.99   \n",
       "5       176561.0            Wired Headphones               1.0       11.99   \n",
       "...          ...                         ...               ...         ...   \n",
       "186845  259353.0      AAA Batteries (4-pack)               3.0        2.99   \n",
       "186846  259354.0                      iPhone               1.0      700.00   \n",
       "186847  259355.0                      iPhone               1.0      700.00   \n",
       "186848  259356.0      34in Ultrawide Monitor               1.0      379.99   \n",
       "186849  259357.0        USB-C Charging Cable               1.0       11.95   \n",
       "\n",
       "             Order Date                         Purchase Address  Month  \n",
       "0        4/19/2019 8:46             917 1st St, Dallas, TX 75001      4  \n",
       "2        4/7/2019 22:30        682 Chestnut St, Boston, MA 02215      4  \n",
       "3       4/12/2019 14:38     669 Spruce St, Los Angeles, CA 90001      4  \n",
       "4       4/12/2019 14:38     669 Spruce St, Los Angeles, CA 90001      4  \n",
       "5        4/30/2019 9:27        333 8th St, Los Angeles, CA 90001      4  \n",
       "...                 ...                                      ...    ...  \n",
       "186845  9/17/2019 20:56   840 Highland St, Los Angeles, CA 90001      9  \n",
       "186846   9/1/2019 16:00  216 Dogwood St, San Francisco, CA 94016      9  \n",
       "186847   9/23/2019 7:39     220 12th St, San Francisco, CA 94016      9  \n",
       "186848  9/19/2019 17:30   511 Forest St, San Francisco, CA 94016      9  \n",
       "186849   9/30/2019 0:18   250 Meadow St, San Francisco, CA 94016      9  \n",
       "\n",
       "[185950 rows x 7 columns]"
      ]
     },
     "execution_count": 20,
     "metadata": {},
     "output_type": "execute_result"
    }
   ],
   "source": [
    "new_dataframe\n",
    "# after creating new column named 'Month'"
   ]
  },
  {
   "cell_type": "markdown",
   "id": "470d6599",
   "metadata": {},
   "source": [
    "# 2.5 Create a new column named City from Purchase Address based on the value in update dataframe"
   ]
  },
  {
   "cell_type": "code",
   "execution_count": 21,
   "id": "0f3cbffe",
   "metadata": {},
   "outputs": [
    {
     "data": {
      "text/html": [
       "<div>\n",
       "<style scoped>\n",
       "    .dataframe tbody tr th:only-of-type {\n",
       "        vertical-align: middle;\n",
       "    }\n",
       "\n",
       "    .dataframe tbody tr th {\n",
       "        vertical-align: top;\n",
       "    }\n",
       "\n",
       "    .dataframe thead th {\n",
       "        text-align: right;\n",
       "    }\n",
       "</style>\n",
       "<table border=\"1\" class=\"dataframe\">\n",
       "  <thead>\n",
       "    <tr style=\"text-align: right;\">\n",
       "      <th></th>\n",
       "      <th>Order ID</th>\n",
       "      <th>Product</th>\n",
       "      <th>Quantity Ordered</th>\n",
       "      <th>Price Each</th>\n",
       "      <th>Order Date</th>\n",
       "      <th>Purchase Address</th>\n",
       "      <th>Month</th>\n",
       "      <th>City</th>\n",
       "    </tr>\n",
       "  </thead>\n",
       "  <tbody>\n",
       "    <tr>\n",
       "      <th>0</th>\n",
       "      <td>176558.0</td>\n",
       "      <td>USB-C Charging Cable</td>\n",
       "      <td>2.0</td>\n",
       "      <td>11.95</td>\n",
       "      <td>4/19/2019 8:46</td>\n",
       "      <td>917 1st St, Dallas, TX 75001</td>\n",
       "      <td>4</td>\n",
       "      <td>917 1st St, Dallas, TX 75001</td>\n",
       "    </tr>\n",
       "    <tr>\n",
       "      <th>2</th>\n",
       "      <td>176559.0</td>\n",
       "      <td>Bose SoundSport Headphones</td>\n",
       "      <td>1.0</td>\n",
       "      <td>99.99</td>\n",
       "      <td>4/7/2019 22:30</td>\n",
       "      <td>682 Chestnut St, Boston, MA 02215</td>\n",
       "      <td>4</td>\n",
       "      <td>682 Chestnut St, Boston, MA 02215</td>\n",
       "    </tr>\n",
       "    <tr>\n",
       "      <th>3</th>\n",
       "      <td>176560.0</td>\n",
       "      <td>Google Phone</td>\n",
       "      <td>1.0</td>\n",
       "      <td>600.00</td>\n",
       "      <td>4/12/2019 14:38</td>\n",
       "      <td>669 Spruce St, Los Angeles, CA 90001</td>\n",
       "      <td>4</td>\n",
       "      <td>669 Spruce St, Los Angeles, CA 90001</td>\n",
       "    </tr>\n",
       "    <tr>\n",
       "      <th>4</th>\n",
       "      <td>176560.0</td>\n",
       "      <td>Wired Headphones</td>\n",
       "      <td>1.0</td>\n",
       "      <td>11.99</td>\n",
       "      <td>4/12/2019 14:38</td>\n",
       "      <td>669 Spruce St, Los Angeles, CA 90001</td>\n",
       "      <td>4</td>\n",
       "      <td>669 Spruce St, Los Angeles, CA 90001</td>\n",
       "    </tr>\n",
       "    <tr>\n",
       "      <th>5</th>\n",
       "      <td>176561.0</td>\n",
       "      <td>Wired Headphones</td>\n",
       "      <td>1.0</td>\n",
       "      <td>11.99</td>\n",
       "      <td>4/30/2019 9:27</td>\n",
       "      <td>333 8th St, Los Angeles, CA 90001</td>\n",
       "      <td>4</td>\n",
       "      <td>333 8th St, Los Angeles, CA 90001</td>\n",
       "    </tr>\n",
       "    <tr>\n",
       "      <th>...</th>\n",
       "      <td>...</td>\n",
       "      <td>...</td>\n",
       "      <td>...</td>\n",
       "      <td>...</td>\n",
       "      <td>...</td>\n",
       "      <td>...</td>\n",
       "      <td>...</td>\n",
       "      <td>...</td>\n",
       "    </tr>\n",
       "    <tr>\n",
       "      <th>186845</th>\n",
       "      <td>259353.0</td>\n",
       "      <td>AAA Batteries (4-pack)</td>\n",
       "      <td>3.0</td>\n",
       "      <td>2.99</td>\n",
       "      <td>9/17/2019 20:56</td>\n",
       "      <td>840 Highland St, Los Angeles, CA 90001</td>\n",
       "      <td>9</td>\n",
       "      <td>840 Highland St, Los Angeles, CA 90001</td>\n",
       "    </tr>\n",
       "    <tr>\n",
       "      <th>186846</th>\n",
       "      <td>259354.0</td>\n",
       "      <td>iPhone</td>\n",
       "      <td>1.0</td>\n",
       "      <td>700.00</td>\n",
       "      <td>9/1/2019 16:00</td>\n",
       "      <td>216 Dogwood St, San Francisco, CA 94016</td>\n",
       "      <td>9</td>\n",
       "      <td>216 Dogwood St, San Francisco, CA 94016</td>\n",
       "    </tr>\n",
       "    <tr>\n",
       "      <th>186847</th>\n",
       "      <td>259355.0</td>\n",
       "      <td>iPhone</td>\n",
       "      <td>1.0</td>\n",
       "      <td>700.00</td>\n",
       "      <td>9/23/2019 7:39</td>\n",
       "      <td>220 12th St, San Francisco, CA 94016</td>\n",
       "      <td>9</td>\n",
       "      <td>220 12th St, San Francisco, CA 94016</td>\n",
       "    </tr>\n",
       "    <tr>\n",
       "      <th>186848</th>\n",
       "      <td>259356.0</td>\n",
       "      <td>34in Ultrawide Monitor</td>\n",
       "      <td>1.0</td>\n",
       "      <td>379.99</td>\n",
       "      <td>9/19/2019 17:30</td>\n",
       "      <td>511 Forest St, San Francisco, CA 94016</td>\n",
       "      <td>9</td>\n",
       "      <td>511 Forest St, San Francisco, CA 94016</td>\n",
       "    </tr>\n",
       "    <tr>\n",
       "      <th>186849</th>\n",
       "      <td>259357.0</td>\n",
       "      <td>USB-C Charging Cable</td>\n",
       "      <td>1.0</td>\n",
       "      <td>11.95</td>\n",
       "      <td>9/30/2019 0:18</td>\n",
       "      <td>250 Meadow St, San Francisco, CA 94016</td>\n",
       "      <td>9</td>\n",
       "      <td>250 Meadow St, San Francisco, CA 94016</td>\n",
       "    </tr>\n",
       "  </tbody>\n",
       "</table>\n",
       "<p>185950 rows × 8 columns</p>\n",
       "</div>"
      ],
      "text/plain": [
       "        Order ID                     Product  Quantity Ordered  Price Each  \\\n",
       "0       176558.0        USB-C Charging Cable               2.0       11.95   \n",
       "2       176559.0  Bose SoundSport Headphones               1.0       99.99   \n",
       "3       176560.0                Google Phone               1.0      600.00   \n",
       "4       176560.0            Wired Headphones               1.0       11.99   \n",
       "5       176561.0            Wired Headphones               1.0       11.99   \n",
       "...          ...                         ...               ...         ...   \n",
       "186845  259353.0      AAA Batteries (4-pack)               3.0        2.99   \n",
       "186846  259354.0                      iPhone               1.0      700.00   \n",
       "186847  259355.0                      iPhone               1.0      700.00   \n",
       "186848  259356.0      34in Ultrawide Monitor               1.0      379.99   \n",
       "186849  259357.0        USB-C Charging Cable               1.0       11.95   \n",
       "\n",
       "             Order Date                         Purchase Address  Month  \\\n",
       "0        4/19/2019 8:46             917 1st St, Dallas, TX 75001      4   \n",
       "2        4/7/2019 22:30        682 Chestnut St, Boston, MA 02215      4   \n",
       "3       4/12/2019 14:38     669 Spruce St, Los Angeles, CA 90001      4   \n",
       "4       4/12/2019 14:38     669 Spruce St, Los Angeles, CA 90001      4   \n",
       "5        4/30/2019 9:27        333 8th St, Los Angeles, CA 90001      4   \n",
       "...                 ...                                      ...    ...   \n",
       "186845  9/17/2019 20:56   840 Highland St, Los Angeles, CA 90001      9   \n",
       "186846   9/1/2019 16:00  216 Dogwood St, San Francisco, CA 94016      9   \n",
       "186847   9/23/2019 7:39     220 12th St, San Francisco, CA 94016      9   \n",
       "186848  9/19/2019 17:30   511 Forest St, San Francisco, CA 94016      9   \n",
       "186849   9/30/2019 0:18   250 Meadow St, San Francisco, CA 94016      9   \n",
       "\n",
       "                                           City  \n",
       "0                  917 1st St, Dallas, TX 75001  \n",
       "2             682 Chestnut St, Boston, MA 02215  \n",
       "3          669 Spruce St, Los Angeles, CA 90001  \n",
       "4          669 Spruce St, Los Angeles, CA 90001  \n",
       "5             333 8th St, Los Angeles, CA 90001  \n",
       "...                                         ...  \n",
       "186845   840 Highland St, Los Angeles, CA 90001  \n",
       "186846  216 Dogwood St, San Francisco, CA 94016  \n",
       "186847     220 12th St, San Francisco, CA 94016  \n",
       "186848   511 Forest St, San Francisco, CA 94016  \n",
       "186849   250 Meadow St, San Francisco, CA 94016  \n",
       "\n",
       "[185950 rows x 8 columns]"
      ]
     },
     "execution_count": 21,
     "metadata": {},
     "output_type": "execute_result"
    }
   ],
   "source": [
    "new_dataframe['City']=new_dataframe['Purchase Address']\n",
    "new_dataframe\n",
    "# creating column named city while extracting details from Purchase Address and displays the new_dataframe"
   ]
  },
  {
   "cell_type": "markdown",
   "id": "017782b3",
   "metadata": {},
   "source": [
    "# 3. Data Analysis\n",
    "\n",
    "Data analysis is the practice of working with data to glean useful information, which can then be used to make informed decisions. It is the process of cleaning, changing, and processing raw data and extracting actionable, relevant information that helps businesses make informed decisions. Data analysis is the process of collecting, modeling, and analyzing data using various statistical and logical methods and techniques. Businesses rely on analytics processes and tools to extract insights that support strategic and operational decision-making."
   ]
  },
  {
   "cell_type": "markdown",
   "id": "89afc079",
   "metadata": {},
   "source": [
    "# 3.1.Summary statistics of sum, mean, standard deviation, skewness, and kurtosis of any chosen variable\n",
    "\n",
    "- Sum: It is the result of adding up all the values in a dataset. It provides a measure of the total amount or quantity of the data.\n",
    "- Mean: It is the average of all the values in a dataset. It provides a measure of the central tendency of the data.\n",
    "- Standard deviation: It measures how much the data deviates from the mean value. It is the square root of the variance of the dataset.\n",
    "- Skewness: It measures the degree of asymmetry of the distribution of data. If the data is skewed to the left, the skewness is negative, while if it is skewed to the right, the skewness is positive.\n",
    "- Kurtosis: It measures the degree of peakedness of the distribution of data. A higher value of kurtosis indicates that the distribution is more peaked and has heavier tails, while a lower value indicates that the distribution is flatter and has lighter tails.\n"
   ]
  },
  {
   "cell_type": "code",
   "execution_count": 22,
   "id": "1f55b0de",
   "metadata": {},
   "outputs": [
    {
     "data": {
      "text/html": [
       "<div>\n",
       "<style scoped>\n",
       "    .dataframe tbody tr th:only-of-type {\n",
       "        vertical-align: middle;\n",
       "    }\n",
       "\n",
       "    .dataframe tbody tr th {\n",
       "        vertical-align: top;\n",
       "    }\n",
       "\n",
       "    .dataframe thead th {\n",
       "        text-align: right;\n",
       "    }\n",
       "</style>\n",
       "<table border=\"1\" class=\"dataframe\">\n",
       "  <thead>\n",
       "    <tr style=\"text-align: right;\">\n",
       "      <th></th>\n",
       "      <th>Quantity Ordered</th>\n",
       "      <th>Price Each</th>\n",
       "    </tr>\n",
       "  </thead>\n",
       "  <tbody>\n",
       "    <tr>\n",
       "      <th>count</th>\n",
       "      <td>185950.000000</td>\n",
       "      <td>185950.000000</td>\n",
       "    </tr>\n",
       "    <tr>\n",
       "      <th>mean</th>\n",
       "      <td>1.124383</td>\n",
       "      <td>184.399735</td>\n",
       "    </tr>\n",
       "    <tr>\n",
       "      <th>std</th>\n",
       "      <td>0.442793</td>\n",
       "      <td>332.731330</td>\n",
       "    </tr>\n",
       "    <tr>\n",
       "      <th>min</th>\n",
       "      <td>1.000000</td>\n",
       "      <td>2.990000</td>\n",
       "    </tr>\n",
       "    <tr>\n",
       "      <th>25%</th>\n",
       "      <td>1.000000</td>\n",
       "      <td>11.950000</td>\n",
       "    </tr>\n",
       "    <tr>\n",
       "      <th>50%</th>\n",
       "      <td>1.000000</td>\n",
       "      <td>14.950000</td>\n",
       "    </tr>\n",
       "    <tr>\n",
       "      <th>75%</th>\n",
       "      <td>1.000000</td>\n",
       "      <td>150.000000</td>\n",
       "    </tr>\n",
       "    <tr>\n",
       "      <th>max</th>\n",
       "      <td>9.000000</td>\n",
       "      <td>1700.000000</td>\n",
       "    </tr>\n",
       "  </tbody>\n",
       "</table>\n",
       "</div>"
      ],
      "text/plain": [
       "       Quantity Ordered     Price Each\n",
       "count     185950.000000  185950.000000\n",
       "mean           1.124383     184.399735\n",
       "std            0.442793     332.731330\n",
       "min            1.000000       2.990000\n",
       "25%            1.000000      11.950000\n",
       "50%            1.000000      14.950000\n",
       "75%            1.000000     150.000000\n",
       "max            9.000000    1700.000000"
      ]
     },
     "execution_count": 22,
     "metadata": {},
     "output_type": "execute_result"
    }
   ],
   "source": [
    "new_dataframe[['Quantity Ordered','Price Each']].describe()\n",
    "# calculating some descriptive statistics using describe method"
   ]
  },
  {
   "cell_type": "code",
   "execution_count": 23,
   "id": "397f87e3",
   "metadata": {},
   "outputs": [
    {
     "data": {
      "text/plain": [
       "Quantity Ordered      209079.00\n",
       "Price Each          34289130.68\n",
       "dtype: float64"
      ]
     },
     "execution_count": 23,
     "metadata": {},
     "output_type": "execute_result"
    }
   ],
   "source": [
    "new_dataframe[['Quantity Ordered','Price Each']].sum()\n",
    "# summing total values of quantity ordered and price each"
   ]
  },
  {
   "cell_type": "code",
   "execution_count": 24,
   "id": "d346cab6",
   "metadata": {},
   "outputs": [
    {
     "data": {
      "text/plain": [
       "Quantity Ordered      1.124383\n",
       "Price Each          184.399735\n",
       "dtype: float64"
      ]
     },
     "execution_count": 24,
     "metadata": {},
     "output_type": "execute_result"
    }
   ],
   "source": [
    "new_dataframe[['Quantity Ordered','Price Each']].mean()\n",
    "# mean of Quantity Ordered and Price Each"
   ]
  },
  {
   "cell_type": "code",
   "execution_count": 25,
   "id": "11dfd827",
   "metadata": {},
   "outputs": [
    {
     "data": {
      "text/plain": [
       "Quantity Ordered      0.442793\n",
       "Price Each          332.731330\n",
       "dtype: float64"
      ]
     },
     "execution_count": 25,
     "metadata": {},
     "output_type": "execute_result"
    }
   ],
   "source": [
    "new_dataframe[['Quantity Ordered','Price Each']].std()\n",
    "# standard deviation of Quantity Ordered and Price Each"
   ]
  },
  {
   "cell_type": "code",
   "execution_count": 26,
   "id": "c1534412",
   "metadata": {},
   "outputs": [
    {
     "data": {
      "text/plain": [
       "Quantity Ordered    4.833164\n",
       "Price Each          2.872149\n",
       "dtype: float64"
      ]
     },
     "execution_count": 26,
     "metadata": {},
     "output_type": "execute_result"
    }
   ],
   "source": [
    "new_dataframe[['Quantity Ordered','Price Each']].skew()\n",
    "# skewness of Quantity Ordered and Price Each"
   ]
  },
  {
   "cell_type": "code",
   "execution_count": 27,
   "id": "26bdb623",
   "metadata": {},
   "outputs": [
    {
     "data": {
      "text/plain": [
       "Quantity Ordered    31.820489\n",
       "Price Each           9.094568\n",
       "dtype: float64"
      ]
     },
     "execution_count": 27,
     "metadata": {},
     "output_type": "execute_result"
    }
   ],
   "source": [
    "new_dataframe[['Quantity Ordered','Price Each']].kurt()\n",
    "# kurtosis of Quantity Ordered and Price Each"
   ]
  },
  {
   "cell_type": "markdown",
   "id": "350ed00a",
   "metadata": {},
   "source": [
    "# 3.2.Calculating and showing correlation of all variables\n",
    "\n",
    "- Correlation is used to determine the strength of the relationship between two variables. It measures the extent to which changes in one variable are associated with changes in another variable. Correlation analysis is done to identify which variables are related and to what extent.\n",
    "\n",
    "- In this step, we calculate the correlation between all the variables in the dataset. Correlation shows the relationship between two variables"
   ]
  },
  {
   "cell_type": "code",
   "execution_count": 28,
   "id": "a407c6c9",
   "metadata": {},
   "outputs": [
    {
     "data": {
      "text/html": [
       "<div>\n",
       "<style scoped>\n",
       "    .dataframe tbody tr th:only-of-type {\n",
       "        vertical-align: middle;\n",
       "    }\n",
       "\n",
       "    .dataframe tbody tr th {\n",
       "        vertical-align: top;\n",
       "    }\n",
       "\n",
       "    .dataframe thead th {\n",
       "        text-align: right;\n",
       "    }\n",
       "</style>\n",
       "<table border=\"1\" class=\"dataframe\">\n",
       "  <thead>\n",
       "    <tr style=\"text-align: right;\">\n",
       "      <th></th>\n",
       "      <th>Order ID</th>\n",
       "      <th>Quantity Ordered</th>\n",
       "      <th>Price Each</th>\n",
       "      <th>Month</th>\n",
       "    </tr>\n",
       "  </thead>\n",
       "  <tbody>\n",
       "    <tr>\n",
       "      <th>Order ID</th>\n",
       "      <td>1.000000</td>\n",
       "      <td>0.000702</td>\n",
       "      <td>-0.002857</td>\n",
       "      <td>0.993063</td>\n",
       "    </tr>\n",
       "    <tr>\n",
       "      <th>Quantity Ordered</th>\n",
       "      <td>0.000702</td>\n",
       "      <td>1.000000</td>\n",
       "      <td>-0.148272</td>\n",
       "      <td>0.000791</td>\n",
       "    </tr>\n",
       "    <tr>\n",
       "      <th>Price Each</th>\n",
       "      <td>-0.002857</td>\n",
       "      <td>-0.148272</td>\n",
       "      <td>1.000000</td>\n",
       "      <td>-0.003375</td>\n",
       "    </tr>\n",
       "    <tr>\n",
       "      <th>Month</th>\n",
       "      <td>0.993063</td>\n",
       "      <td>0.000791</td>\n",
       "      <td>-0.003375</td>\n",
       "      <td>1.000000</td>\n",
       "    </tr>\n",
       "  </tbody>\n",
       "</table>\n",
       "</div>"
      ],
      "text/plain": [
       "                  Order ID  Quantity Ordered  Price Each     Month\n",
       "Order ID          1.000000          0.000702   -0.002857  0.993063\n",
       "Quantity Ordered  0.000702          1.000000   -0.148272  0.000791\n",
       "Price Each       -0.002857         -0.148272    1.000000 -0.003375\n",
       "Month             0.993063          0.000791   -0.003375  1.000000"
      ]
     },
     "execution_count": 28,
     "metadata": {},
     "output_type": "execute_result"
    }
   ],
   "source": [
    "# Calculating the correlation matrix of the new_dataframe using .corr() method.\n",
    "# This method calculates pairwise correlations among all the columns in the dataframe.\n",
    "# The resulting matrix will show how strongly each column is related to one another.\n",
    "\n",
    "new_dataframe.corr()\n"
   ]
  },
  {
   "cell_type": "markdown",
   "id": "237dc0f8",
   "metadata": {},
   "source": [
    "# 3.2.1. Heatmap of correlation of all variables"
   ]
  },
  {
   "cell_type": "code",
   "execution_count": 29,
   "id": "4301cc28",
   "metadata": {},
   "outputs": [
    {
     "data": {
      "image/png": "[encoded data removed]",
      "text/plain": [
       "<Figure size 640x480 with 2 Axes>"
      ]
     },
     "metadata": {},
     "output_type": "display_data"
    }
   ],
   "source": [
    "# plotting heatmap using Seaborn\n",
    "sns.heatmap(new_dataframe.corr(), cmap='coolwarm', annot=True)\n",
    "plt.title('Correlation Heatmap')\n",
    "plt.show()"
   ]
  },
  {
   "cell_type": "markdown",
   "id": "c1bb2cd1",
   "metadata": {},
   "source": [
    "# 4. Data Exploration\n",
    "\n",
    "- Data exploration is the process of analyzing, summarizing, and visualizing a dataset to gain insights and understanding of the data. It involves understanding the distribution of variables, detecting patterns, identifying relationships between variables, and exploring potential outliers or anomalies. Data exploration is an important step in the data analysis process as it helps to identify trends and patterns that can guide further analysis and decision-making.\n"
   ]
  },
  {
   "cell_type": "markdown",
   "id": "ed364ff7",
   "metadata": {},
   "source": [
    "# 4.1.Bar graph of month which have best sales and earning\n",
    "\n",
    "- A bar graph is a data visualization technique that uses rectangular bars to represent the values of variables. It is a useful tool for comparing and displaying categorical data, such as different groups or categories and their corresponding values or counts. The length or height of each bar represents the magnitude of the variable being measured. Bar graphs are commonly used in various fields, including business, finance, science, and education, to present and communicate data insights in an easy-to-understand and visually appealing way."
   ]
  },
  {
   "cell_type": "code",
   "execution_count": 30,
   "id": "6392bd4e",
   "metadata": {},
   "outputs": [],
   "source": [
    "new_dataframe['Amount']=new_dataframe['Quantity Ordered']*new_dataframe['Price Each']\n",
    "#creating new column called Amount in new_dataframe by multiplying Quantity ordered and Price Each"
   ]
  },
  {
   "cell_type": "code",
   "execution_count": 31,
   "id": "76bc3102",
   "metadata": {},
   "outputs": [
    {
     "data": {
      "text/html": [
       "<div>\n",
       "<style scoped>\n",
       "    .dataframe tbody tr th:only-of-type {\n",
       "        vertical-align: middle;\n",
       "    }\n",
       "\n",
       "    .dataframe tbody tr th {\n",
       "        vertical-align: top;\n",
       "    }\n",
       "\n",
       "    .dataframe thead th {\n",
       "        text-align: right;\n",
       "    }\n",
       "</style>\n",
       "<table border=\"1\" class=\"dataframe\">\n",
       "  <thead>\n",
       "    <tr style=\"text-align: right;\">\n",
       "      <th></th>\n",
       "      <th>Order ID</th>\n",
       "      <th>Product</th>\n",
       "      <th>Quantity Ordered</th>\n",
       "      <th>Price Each</th>\n",
       "      <th>Order Date</th>\n",
       "      <th>Purchase Address</th>\n",
       "      <th>Month</th>\n",
       "      <th>City</th>\n",
       "      <th>Amount</th>\n",
       "    </tr>\n",
       "  </thead>\n",
       "  <tbody>\n",
       "    <tr>\n",
       "      <th>0</th>\n",
       "      <td>176558.0</td>\n",
       "      <td>USB-C Charging Cable</td>\n",
       "      <td>2.0</td>\n",
       "      <td>11.95</td>\n",
       "      <td>4/19/2019 8:46</td>\n",
       "      <td>917 1st St, Dallas, TX 75001</td>\n",
       "      <td>4</td>\n",
       "      <td>917 1st St, Dallas, TX 75001</td>\n",
       "      <td>23.90</td>\n",
       "    </tr>\n",
       "    <tr>\n",
       "      <th>2</th>\n",
       "      <td>176559.0</td>\n",
       "      <td>Bose SoundSport Headphones</td>\n",
       "      <td>1.0</td>\n",
       "      <td>99.99</td>\n",
       "      <td>4/7/2019 22:30</td>\n",
       "      <td>682 Chestnut St, Boston, MA 02215</td>\n",
       "      <td>4</td>\n",
       "      <td>682 Chestnut St, Boston, MA 02215</td>\n",
       "      <td>99.99</td>\n",
       "    </tr>\n",
       "    <tr>\n",
       "      <th>3</th>\n",
       "      <td>176560.0</td>\n",
       "      <td>Google Phone</td>\n",
       "      <td>1.0</td>\n",
       "      <td>600.00</td>\n",
       "      <td>4/12/2019 14:38</td>\n",
       "      <td>669 Spruce St, Los Angeles, CA 90001</td>\n",
       "      <td>4</td>\n",
       "      <td>669 Spruce St, Los Angeles, CA 90001</td>\n",
       "      <td>600.00</td>\n",
       "    </tr>\n",
       "    <tr>\n",
       "      <th>4</th>\n",
       "      <td>176560.0</td>\n",
       "      <td>Wired Headphones</td>\n",
       "      <td>1.0</td>\n",
       "      <td>11.99</td>\n",
       "      <td>4/12/2019 14:38</td>\n",
       "      <td>669 Spruce St, Los Angeles, CA 90001</td>\n",
       "      <td>4</td>\n",
       "      <td>669 Spruce St, Los Angeles, CA 90001</td>\n",
       "      <td>11.99</td>\n",
       "    </tr>\n",
       "    <tr>\n",
       "      <th>5</th>\n",
       "      <td>176561.0</td>\n",
       "      <td>Wired Headphones</td>\n",
       "      <td>1.0</td>\n",
       "      <td>11.99</td>\n",
       "      <td>4/30/2019 9:27</td>\n",
       "      <td>333 8th St, Los Angeles, CA 90001</td>\n",
       "      <td>4</td>\n",
       "      <td>333 8th St, Los Angeles, CA 90001</td>\n",
       "      <td>11.99</td>\n",
       "    </tr>\n",
       "    <tr>\n",
       "      <th>...</th>\n",
       "      <td>...</td>\n",
       "      <td>...</td>\n",
       "      <td>...</td>\n",
       "      <td>...</td>\n",
       "      <td>...</td>\n",
       "      <td>...</td>\n",
       "      <td>...</td>\n",
       "      <td>...</td>\n",
       "      <td>...</td>\n",
       "    </tr>\n",
       "    <tr>\n",
       "      <th>186845</th>\n",
       "      <td>259353.0</td>\n",
       "      <td>AAA Batteries (4-pack)</td>\n",
       "      <td>3.0</td>\n",
       "      <td>2.99</td>\n",
       "      <td>9/17/2019 20:56</td>\n",
       "      <td>840 Highland St, Los Angeles, CA 90001</td>\n",
       "      <td>9</td>\n",
       "      <td>840 Highland St, Los Angeles, CA 90001</td>\n",
       "      <td>8.97</td>\n",
       "    </tr>\n",
       "    <tr>\n",
       "      <th>186846</th>\n",
       "      <td>259354.0</td>\n",
       "      <td>iPhone</td>\n",
       "      <td>1.0</td>\n",
       "      <td>700.00</td>\n",
       "      <td>9/1/2019 16:00</td>\n",
       "      <td>216 Dogwood St, San Francisco, CA 94016</td>\n",
       "      <td>9</td>\n",
       "      <td>216 Dogwood St, San Francisco, CA 94016</td>\n",
       "      <td>700.00</td>\n",
       "    </tr>\n",
       "    <tr>\n",
       "      <th>186847</th>\n",
       "      <td>259355.0</td>\n",
       "      <td>iPhone</td>\n",
       "      <td>1.0</td>\n",
       "      <td>700.00</td>\n",
       "      <td>9/23/2019 7:39</td>\n",
       "      <td>220 12th St, San Francisco, CA 94016</td>\n",
       "      <td>9</td>\n",
       "      <td>220 12th St, San Francisco, CA 94016</td>\n",
       "      <td>700.00</td>\n",
       "    </tr>\n",
       "    <tr>\n",
       "      <th>186848</th>\n",
       "      <td>259356.0</td>\n",
       "      <td>34in Ultrawide Monitor</td>\n",
       "      <td>1.0</td>\n",
       "      <td>379.99</td>\n",
       "      <td>9/19/2019 17:30</td>\n",
       "      <td>511 Forest St, San Francisco, CA 94016</td>\n",
       "      <td>9</td>\n",
       "      <td>511 Forest St, San Francisco, CA 94016</td>\n",
       "      <td>379.99</td>\n",
       "    </tr>\n",
       "    <tr>\n",
       "      <th>186849</th>\n",
       "      <td>259357.0</td>\n",
       "      <td>USB-C Charging Cable</td>\n",
       "      <td>1.0</td>\n",
       "      <td>11.95</td>\n",
       "      <td>9/30/2019 0:18</td>\n",
       "      <td>250 Meadow St, San Francisco, CA 94016</td>\n",
       "      <td>9</td>\n",
       "      <td>250 Meadow St, San Francisco, CA 94016</td>\n",
       "      <td>11.95</td>\n",
       "    </tr>\n",
       "  </tbody>\n",
       "</table>\n",
       "<p>185950 rows × 9 columns</p>\n",
       "</div>"
      ],
      "text/plain": [
       "        Order ID                     Product  Quantity Ordered  Price Each  \\\n",
       "0       176558.0        USB-C Charging Cable               2.0       11.95   \n",
       "2       176559.0  Bose SoundSport Headphones               1.0       99.99   \n",
       "3       176560.0                Google Phone               1.0      600.00   \n",
       "4       176560.0            Wired Headphones               1.0       11.99   \n",
       "5       176561.0            Wired Headphones               1.0       11.99   \n",
       "...          ...                         ...               ...         ...   \n",
       "186845  259353.0      AAA Batteries (4-pack)               3.0        2.99   \n",
       "186846  259354.0                      iPhone               1.0      700.00   \n",
       "186847  259355.0                      iPhone               1.0      700.00   \n",
       "186848  259356.0      34in Ultrawide Monitor               1.0      379.99   \n",
       "186849  259357.0        USB-C Charging Cable               1.0       11.95   \n",
       "\n",
       "             Order Date                         Purchase Address  Month  \\\n",
       "0        4/19/2019 8:46             917 1st St, Dallas, TX 75001      4   \n",
       "2        4/7/2019 22:30        682 Chestnut St, Boston, MA 02215      4   \n",
       "3       4/12/2019 14:38     669 Spruce St, Los Angeles, CA 90001      4   \n",
       "4       4/12/2019 14:38     669 Spruce St, Los Angeles, CA 90001      4   \n",
       "5        4/30/2019 9:27        333 8th St, Los Angeles, CA 90001      4   \n",
       "...                 ...                                      ...    ...   \n",
       "186845  9/17/2019 20:56   840 Highland St, Los Angeles, CA 90001      9   \n",
       "186846   9/1/2019 16:00  216 Dogwood St, San Francisco, CA 94016      9   \n",
       "186847   9/23/2019 7:39     220 12th St, San Francisco, CA 94016      9   \n",
       "186848  9/19/2019 17:30   511 Forest St, San Francisco, CA 94016      9   \n",
       "186849   9/30/2019 0:18   250 Meadow St, San Francisco, CA 94016      9   \n",
       "\n",
       "                                           City  Amount  \n",
       "0                  917 1st St, Dallas, TX 75001   23.90  \n",
       "2             682 Chestnut St, Boston, MA 02215   99.99  \n",
       "3          669 Spruce St, Los Angeles, CA 90001  600.00  \n",
       "4          669 Spruce St, Los Angeles, CA 90001   11.99  \n",
       "5             333 8th St, Los Angeles, CA 90001   11.99  \n",
       "...                                         ...     ...  \n",
       "186845   840 Highland St, Los Angeles, CA 90001    8.97  \n",
       "186846  216 Dogwood St, San Francisco, CA 94016  700.00  \n",
       "186847     220 12th St, San Francisco, CA 94016  700.00  \n",
       "186848   511 Forest St, San Francisco, CA 94016  379.99  \n",
       "186849   250 Meadow St, San Francisco, CA 94016   11.95  \n",
       "\n",
       "[185950 rows x 9 columns]"
      ]
     },
     "execution_count": 31,
     "metadata": {},
     "output_type": "execute_result"
    }
   ],
   "source": [
    "new_dataframe\n",
    "#new_dataframe after creating Amount column and multiply Quantity Ordered and Price each"
   ]
  },
  {
   "cell_type": "code",
   "execution_count": 32,
   "id": "7eb41d68",
   "metadata": {},
   "outputs": [],
   "source": [
    "sales_monthly=new_dataframe['Amount'].groupby(new_dataframe['Month']).sum()\n",
    "# Calculating the total sales amount per month by grouping the DataFrame by the 'Month' column and summing the 'Amount' column"
   ]
  },
  {
   "cell_type": "code",
   "execution_count": 33,
   "id": "8a26abb0",
   "metadata": {},
   "outputs": [
    {
     "data": {
      "text/plain": [
       "Month\n",
       "1     1822256.73\n",
       "2     2202022.42\n",
       "3     2807100.38\n",
       "4     3390670.24\n",
       "5     3152606.75\n",
       "6     2577802.26\n",
       "7     2647775.76\n",
       "8     2244467.88\n",
       "9     2097560.13\n",
       "10    3736726.88\n",
       "11    3199603.20\n",
       "12    4613443.34\n",
       "Name: Amount, dtype: float64"
      ]
     },
     "execution_count": 33,
     "metadata": {},
     "output_type": "execute_result"
    }
   ],
   "source": [
    "sales_monthly\n",
    "# sales_monthly after Calculating the total sales amount per month by grouping the DataFrame by the 'Month' column and \n",
    "#summing the 'Amount' column"
   ]
  },
  {
   "cell_type": "code",
   "execution_count": 34,
   "id": "fbced1ce",
   "metadata": {},
   "outputs": [
    {
     "name": "stdout",
     "output_type": "stream",
     "text": [
      "Highest Sales Month: 12\n",
      "Sales: 4613443.34\n"
     ]
    }
   ],
   "source": [
    "print(\"Highest Sales Month:\",sales_monthly.idxmax())\n",
    "print(\"Sales:\",sales_monthly.max())\n",
    "#printing highest sales month and sales number"
   ]
  },
  {
   "cell_type": "code",
   "execution_count": 35,
   "id": "7954c7b2",
   "metadata": {},
   "outputs": [
    {
     "data": {
      "image/png": "[encoded data removed]",
      "text/plain": [
       "<Figure size 1600x600 with 1 Axes>"
      ]
     },
     "metadata": {},
     "output_type": "display_data"
    }
   ],
   "source": [
    "# Defining color for the bars\n",
    "colors = ['yellow']\n",
    "\n",
    "# Creating a figure with a size of 16 by 6 inches\n",
    "plt.figure(figsize=(16, 6))\n",
    "\n",
    "# Ploting a bar chart with x-axis as the index of sales_monthly and y-axis as the values of sales_monthly,\n",
    "#with the defined color for the bars and red color for the edges\n",
    "plt.bar(sales_monthly.index, sales_monthly.values, color=colors, edgecolor='red')\n",
    "\n",
    "# Setting the title of the plot as \"Monthly Sales\"\n",
    "plt.title('Monthly Sales')\n",
    "\n",
    "# Setting the label for x-axis as \"Month\"\n",
    "plt.xlabel('Month')\n",
    "\n",
    "# Setting the label for y-axis as \"Sales\"\n",
    "plt.ylabel('Sales')\n",
    "\n",
    "plt.show()\n"
   ]
  },
  {
   "cell_type": "markdown",
   "id": "f58ed4e7",
   "metadata": {},
   "source": [
    "# 4.2.Highest product selling city"
   ]
  },
  {
   "cell_type": "code",
   "execution_count": 36,
   "id": "20013282",
   "metadata": {},
   "outputs": [],
   "source": [
    "new_dataframe['City']=new_dataframe['Purchase Address'].str.split(',').str.get(1).str.strip()\n",
    "# Extracting the city from the Purchase Address column by splitting on commas and getting the second element"
   ]
  },
  {
   "cell_type": "code",
   "execution_count": 37,
   "id": "d9f5ed8f",
   "metadata": {},
   "outputs": [
    {
     "data": {
      "text/html": [
       "<div>\n",
       "<style scoped>\n",
       "    .dataframe tbody tr th:only-of-type {\n",
       "        vertical-align: middle;\n",
       "    }\n",
       "\n",
       "    .dataframe tbody tr th {\n",
       "        vertical-align: top;\n",
       "    }\n",
       "\n",
       "    .dataframe thead th {\n",
       "        text-align: right;\n",
       "    }\n",
       "</style>\n",
       "<table border=\"1\" class=\"dataframe\">\n",
       "  <thead>\n",
       "    <tr style=\"text-align: right;\">\n",
       "      <th></th>\n",
       "      <th>Order ID</th>\n",
       "      <th>Product</th>\n",
       "      <th>Quantity Ordered</th>\n",
       "      <th>Price Each</th>\n",
       "      <th>Order Date</th>\n",
       "      <th>Purchase Address</th>\n",
       "      <th>Month</th>\n",
       "      <th>City</th>\n",
       "      <th>Amount</th>\n",
       "    </tr>\n",
       "  </thead>\n",
       "  <tbody>\n",
       "    <tr>\n",
       "      <th>0</th>\n",
       "      <td>176558.0</td>\n",
       "      <td>USB-C Charging Cable</td>\n",
       "      <td>2.0</td>\n",
       "      <td>11.95</td>\n",
       "      <td>4/19/2019 8:46</td>\n",
       "      <td>917 1st St, Dallas, TX 75001</td>\n",
       "      <td>4</td>\n",
       "      <td>Dallas</td>\n",
       "      <td>23.90</td>\n",
       "    </tr>\n",
       "    <tr>\n",
       "      <th>2</th>\n",
       "      <td>176559.0</td>\n",
       "      <td>Bose SoundSport Headphones</td>\n",
       "      <td>1.0</td>\n",
       "      <td>99.99</td>\n",
       "      <td>4/7/2019 22:30</td>\n",
       "      <td>682 Chestnut St, Boston, MA 02215</td>\n",
       "      <td>4</td>\n",
       "      <td>Boston</td>\n",
       "      <td>99.99</td>\n",
       "    </tr>\n",
       "    <tr>\n",
       "      <th>3</th>\n",
       "      <td>176560.0</td>\n",
       "      <td>Google Phone</td>\n",
       "      <td>1.0</td>\n",
       "      <td>600.00</td>\n",
       "      <td>4/12/2019 14:38</td>\n",
       "      <td>669 Spruce St, Los Angeles, CA 90001</td>\n",
       "      <td>4</td>\n",
       "      <td>Los Angeles</td>\n",
       "      <td>600.00</td>\n",
       "    </tr>\n",
       "    <tr>\n",
       "      <th>4</th>\n",
       "      <td>176560.0</td>\n",
       "      <td>Wired Headphones</td>\n",
       "      <td>1.0</td>\n",
       "      <td>11.99</td>\n",
       "      <td>4/12/2019 14:38</td>\n",
       "      <td>669 Spruce St, Los Angeles, CA 90001</td>\n",
       "      <td>4</td>\n",
       "      <td>Los Angeles</td>\n",
       "      <td>11.99</td>\n",
       "    </tr>\n",
       "    <tr>\n",
       "      <th>5</th>\n",
       "      <td>176561.0</td>\n",
       "      <td>Wired Headphones</td>\n",
       "      <td>1.0</td>\n",
       "      <td>11.99</td>\n",
       "      <td>4/30/2019 9:27</td>\n",
       "      <td>333 8th St, Los Angeles, CA 90001</td>\n",
       "      <td>4</td>\n",
       "      <td>Los Angeles</td>\n",
       "      <td>11.99</td>\n",
       "    </tr>\n",
       "    <tr>\n",
       "      <th>...</th>\n",
       "      <td>...</td>\n",
       "      <td>...</td>\n",
       "      <td>...</td>\n",
       "      <td>...</td>\n",
       "      <td>...</td>\n",
       "      <td>...</td>\n",
       "      <td>...</td>\n",
       "      <td>...</td>\n",
       "      <td>...</td>\n",
       "    </tr>\n",
       "    <tr>\n",
       "      <th>186845</th>\n",
       "      <td>259353.0</td>\n",
       "      <td>AAA Batteries (4-pack)</td>\n",
       "      <td>3.0</td>\n",
       "      <td>2.99</td>\n",
       "      <td>9/17/2019 20:56</td>\n",
       "      <td>840 Highland St, Los Angeles, CA 90001</td>\n",
       "      <td>9</td>\n",
       "      <td>Los Angeles</td>\n",
       "      <td>8.97</td>\n",
       "    </tr>\n",
       "    <tr>\n",
       "      <th>186846</th>\n",
       "      <td>259354.0</td>\n",
       "      <td>iPhone</td>\n",
       "      <td>1.0</td>\n",
       "      <td>700.00</td>\n",
       "      <td>9/1/2019 16:00</td>\n",
       "      <td>216 Dogwood St, San Francisco, CA 94016</td>\n",
       "      <td>9</td>\n",
       "      <td>San Francisco</td>\n",
       "      <td>700.00</td>\n",
       "    </tr>\n",
       "    <tr>\n",
       "      <th>186847</th>\n",
       "      <td>259355.0</td>\n",
       "      <td>iPhone</td>\n",
       "      <td>1.0</td>\n",
       "      <td>700.00</td>\n",
       "      <td>9/23/2019 7:39</td>\n",
       "      <td>220 12th St, San Francisco, CA 94016</td>\n",
       "      <td>9</td>\n",
       "      <td>San Francisco</td>\n",
       "      <td>700.00</td>\n",
       "    </tr>\n",
       "    <tr>\n",
       "      <th>186848</th>\n",
       "      <td>259356.0</td>\n",
       "      <td>34in Ultrawide Monitor</td>\n",
       "      <td>1.0</td>\n",
       "      <td>379.99</td>\n",
       "      <td>9/19/2019 17:30</td>\n",
       "      <td>511 Forest St, San Francisco, CA 94016</td>\n",
       "      <td>9</td>\n",
       "      <td>San Francisco</td>\n",
       "      <td>379.99</td>\n",
       "    </tr>\n",
       "    <tr>\n",
       "      <th>186849</th>\n",
       "      <td>259357.0</td>\n",
       "      <td>USB-C Charging Cable</td>\n",
       "      <td>1.0</td>\n",
       "      <td>11.95</td>\n",
       "      <td>9/30/2019 0:18</td>\n",
       "      <td>250 Meadow St, San Francisco, CA 94016</td>\n",
       "      <td>9</td>\n",
       "      <td>San Francisco</td>\n",
       "      <td>11.95</td>\n",
       "    </tr>\n",
       "  </tbody>\n",
       "</table>\n",
       "<p>185950 rows × 9 columns</p>\n",
       "</div>"
      ],
      "text/plain": [
       "        Order ID                     Product  Quantity Ordered  Price Each  \\\n",
       "0       176558.0        USB-C Charging Cable               2.0       11.95   \n",
       "2       176559.0  Bose SoundSport Headphones               1.0       99.99   \n",
       "3       176560.0                Google Phone               1.0      600.00   \n",
       "4       176560.0            Wired Headphones               1.0       11.99   \n",
       "5       176561.0            Wired Headphones               1.0       11.99   \n",
       "...          ...                         ...               ...         ...   \n",
       "186845  259353.0      AAA Batteries (4-pack)               3.0        2.99   \n",
       "186846  259354.0                      iPhone               1.0      700.00   \n",
       "186847  259355.0                      iPhone               1.0      700.00   \n",
       "186848  259356.0      34in Ultrawide Monitor               1.0      379.99   \n",
       "186849  259357.0        USB-C Charging Cable               1.0       11.95   \n",
       "\n",
       "             Order Date                         Purchase Address  Month  \\\n",
       "0        4/19/2019 8:46             917 1st St, Dallas, TX 75001      4   \n",
       "2        4/7/2019 22:30        682 Chestnut St, Boston, MA 02215      4   \n",
       "3       4/12/2019 14:38     669 Spruce St, Los Angeles, CA 90001      4   \n",
       "4       4/12/2019 14:38     669 Spruce St, Los Angeles, CA 90001      4   \n",
       "5        4/30/2019 9:27        333 8th St, Los Angeles, CA 90001      4   \n",
       "...                 ...                                      ...    ...   \n",
       "186845  9/17/2019 20:56   840 Highland St, Los Angeles, CA 90001      9   \n",
       "186846   9/1/2019 16:00  216 Dogwood St, San Francisco, CA 94016      9   \n",
       "186847   9/23/2019 7:39     220 12th St, San Francisco, CA 94016      9   \n",
       "186848  9/19/2019 17:30   511 Forest St, San Francisco, CA 94016      9   \n",
       "186849   9/30/2019 0:18   250 Meadow St, San Francisco, CA 94016      9   \n",
       "\n",
       "                 City  Amount  \n",
       "0              Dallas   23.90  \n",
       "2              Boston   99.99  \n",
       "3         Los Angeles  600.00  \n",
       "4         Los Angeles   11.99  \n",
       "5         Los Angeles   11.99  \n",
       "...               ...     ...  \n",
       "186845    Los Angeles    8.97  \n",
       "186846  San Francisco  700.00  \n",
       "186847  San Francisco  700.00  \n",
       "186848  San Francisco  379.99  \n",
       "186849  San Francisco   11.95  \n",
       "\n",
       "[185950 rows x 9 columns]"
      ]
     },
     "execution_count": 37,
     "metadata": {},
     "output_type": "execute_result"
    }
   ],
   "source": [
    "new_dataframe"
   ]
  },
  {
   "cell_type": "code",
   "execution_count": 38,
   "id": "c88ec36c",
   "metadata": {},
   "outputs": [
    {
     "data": {
      "text/plain": [
       "City\n",
       "Atlanta          16602.0\n",
       "Austin           11153.0\n",
       "Boston           22528.0\n",
       "Dallas           16730.0\n",
       "Los Angeles      33289.0\n",
       "New York City    27932.0\n",
       "Portland         14053.0\n",
       "San Francisco    50239.0\n",
       "Seattle          16553.0\n",
       "Name: Quantity Ordered, dtype: float64"
      ]
     },
     "execution_count": 38,
     "metadata": {},
     "output_type": "execute_result"
    }
   ],
   "source": [
    "high_prod_selling_city=new_dataframe['Quantity Ordered'].groupby(new_dataframe['City']).sum()\n",
    "high_prod_selling_city\n",
    "# Calculating the total quantity of products ordered in each city/grouping by month and summing quantity ordered in it\n",
    "#And Printing after calculating"
   ]
  },
  {
   "cell_type": "code",
   "execution_count": 39,
   "id": "8cfb96c2",
   "metadata": {},
   "outputs": [
    {
     "name": "stdout",
     "output_type": "stream",
     "text": [
      "Highest Product Selling City: San Francisco\n",
      "Highest Product Sales: 50239.0\n"
     ]
    }
   ],
   "source": [
    "print(\"Highest Product Selling City:\",high_prod_selling_city.idxmax())\n",
    "print(\"Highest Product Sales:\",high_prod_selling_city.max())\n",
    "#printing Highest Product Sold out Month and highest Product sales"
   ]
  },
  {
   "cell_type": "code",
   "execution_count": 40,
   "id": "0185ba60",
   "metadata": {},
   "outputs": [
    {
     "data": {
      "image/png": "[encoded data removed]",
      "text/plain": [
       "<Figure size 1600x800 with 1 Axes>"
      ]
     },
     "metadata": {},
     "output_type": "display_data"
    }
   ],
   "source": [
    "# Setting color, figure size, \n",
    "colr=['green']\n",
    "plt.figure(figsize=(16,8))\n",
    "\n",
    "# Creating a bar chart with the number of products sold in each city as the y-values\n",
    "# and the city names as the x-values\n",
    "plt.bar(high_prod_selling_city.index, high_prod_selling_city.values, color=colr, edgecolor='red')\n",
    "\n",
    "plt.xlabel('City')\n",
    "\n",
    "plt.ylabel('Products Price($)')\n",
    "\n",
    "# Set the title of the bar chart\n",
    "plt.title('The number of products sold in each city')\n",
    "\n",
    "plt.show()\n"
   ]
  },
  {
   "cell_type": "markdown",
   "id": "ed269368",
   "metadata": {},
   "source": [
    "# 4.3.Mostly Sold Products"
   ]
  },
  {
   "cell_type": "code",
   "execution_count": 41,
   "id": "8e447301",
   "metadata": {},
   "outputs": [
    {
     "data": {
      "text/plain": [
       "Product\n",
       "20in Monitor                   4129.0\n",
       "27in 4K Gaming Monitor         6244.0\n",
       "27in FHD Monitor               7550.0\n",
       "34in Ultrawide Monitor         6199.0\n",
       "AA Batteries (4-pack)         27635.0\n",
       "AAA Batteries (4-pack)        31017.0\n",
       "Apple Airpods Headphones      15661.0\n",
       "Bose SoundSport Headphones    13457.0\n",
       "Flatscreen TV                  4819.0\n",
       "Google Phone                   5532.0\n",
       "LG Dryer                        646.0\n",
       "LG Washing Machine              666.0\n",
       "Lightning Charging Cable      23217.0\n",
       "Macbook Pro Laptop             4728.0\n",
       "ThinkPad Laptop                4130.0\n",
       "USB-C Charging Cable          23975.0\n",
       "Vareebadd Phone                2068.0\n",
       "Wired Headphones              20557.0\n",
       "iPhone                         6849.0\n",
       "Name: Quantity Ordered, dtype: float64"
      ]
     },
     "execution_count": 41,
     "metadata": {},
     "output_type": "execute_result"
    }
   ],
   "source": [
    "sold_products=new_dataframe['Quantity Ordered'].groupby(new_dataframe['Product']).sum()\n",
    "sold_products\n",
    "# Grouping the quantity ordered by the product name and calculating the sum of the values"
   ]
  },
  {
   "cell_type": "code",
   "execution_count": 42,
   "id": "846e6238",
   "metadata": {},
   "outputs": [
    {
     "name": "stdout",
     "output_type": "stream",
     "text": [
      "Mostly Sold Product: AAA Batteries (4-pack)\n",
      "Total Sold Quantity: 31017.0\n"
     ]
    }
   ],
   "source": [
    "print(\"Mostly Sold Product:\",sold_products.idxmax())\n",
    "print(\"Total Sold Quantity:\",sold_products.max())\n",
    "#printing Mostly sold Product and Total sold quantity"
   ]
  },
  {
   "cell_type": "code",
   "execution_count": 43,
   "id": "c8078cf1",
   "metadata": {},
   "outputs": [
    {
     "data": {
      "image/png": "[encoded data removed]",
      "text/plain": [
       "<Figure size 1600x800 with 1 Axes>"
      ]
     },
     "metadata": {},
     "output_type": "display_data"
    }
   ],
   "source": [
    "#defining color, figure size,\n",
    "colrr=['pink']\n",
    "plt.figure(figsize=(16,8))\n",
    "# Creating a bar chart with the quantity of products sold in each city as the y-values\n",
    "# and the products names as the x-values\n",
    "plt.bar(sold_products.index, sold_products.values, color=colrr, edgecolor='red')\n",
    "plt.xlabel('Products')\n",
    "plt.xticks(rotation=90)\n",
    "plt.ylabel('Quantity of Products')\n",
    "plt.title('The number of products sold in each city')\n",
    "plt.show()"
   ]
  },
  {
   "cell_type": "markdown",
   "id": "79905b61",
   "metadata": {},
   "source": [
    "#  4.4.Showing histogram plot of chosen variables\n",
    "\n",
    "- A histogram is a graphical representation of a distribution of continuous data. It is used to visualize the underlying frequency distribution of a set of continuous data by dividing the range of values into intervals called bins, and counting the number of observations that fall into each bin. The resulting plot gives a rough idea of the shape of the distribution, as well as the central tendency, variability, and skewness of the data. Histograms are commonly used in statistical analysis, quality control, and scientific research to explore, summarize, and compare datasets."
   ]
  },
  {
   "cell_type": "code",
   "execution_count": 44,
   "id": "14cb5143",
   "metadata": {},
   "outputs": [
    {
     "data": {
      "image/png": "[encoded data removed]",
      "text/plain": [
       "<Figure size 1600x800 with 1 Axes>"
      ]
     },
     "metadata": {},
     "output_type": "display_data"
    }
   ],
   "source": [
    "plt.figure(figsize=(16, 8))\n",
    "\n",
    "# extract the data to plot from the new_dataframe\n",
    "data_to_plot = new_dataframe[['Quantity Ordered','Price Each']]\n",
    "\n",
    "# plot the histogram with 4 bins and a black edgecolor\n",
    "plt.hist(data_to_plot, bins=4, edgecolor='black')\n",
    "\n",
    "# add axis labels and a title\n",
    "plt.xlabel('Quantity and Price')\n",
    "plt.ylabel('Frequency')\n",
    "plt.title('Histogram of Quantity and Price')\n",
    "\n",
    "plt.show()\n"
   ]
  },
  {
   "cell_type": "code",
   "execution_count": null,
   "id": "9c35bf2c",
   "metadata": {},
   "outputs": [],
   "source": []
  }
 ],
 "metadata": {
  "kernelspec": {
   "display_name": "Python 3 (ipykernel)",
   "language": "python",
   "name": "python3"
  },
  "language_info": {
   "codemirror_mode": {
    "name": "ipython",
    "version": 3
   },
   "file_extension": ".py",
   "mimetype": "text/x-python",
   "name": "python",
   "nbconvert_exporter": "python",
   "pygments_lexer": "ipython3",
   "version": "3.9.13"
  }
 },
 "nbformat": 4,
 "nbformat_minor": 5
}
